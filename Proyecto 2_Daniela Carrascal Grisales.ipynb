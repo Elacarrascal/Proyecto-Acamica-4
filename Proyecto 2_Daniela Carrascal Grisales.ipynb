{
 "cells": [
  {
   "cell_type": "markdown",
   "metadata": {},
   "source": [
    "## PARTE A ## \n",
    "Transformación de Datos\n",
    "Elige cuáles de las siguientes tareas son apropiadas para su dataset. Implementa las transformaciones que elegiste. Es importante que justifiques por qué las haces:\n"
   ]
  },
  {
   "cell_type": "markdown",
   "metadata": {},
   "source": [
    "RESPUESTA: en este caso se implementaron 3 trasnformaciones:  encoding, datos faltantes y escalado"
   ]
  },
  {
   "cell_type": "markdown",
   "metadata": {},
   "source": [
    "En el desarrollo del proyecto se eligió trabajar con valores faltantes, ya que comprender las razones por las que hay datos faltantes es fundamental para hacer un correcto manejo de los datos que sí tenemos. Para esto se utilizará el modelo de imputación de datos faltantes, que consiste en rellenar los valores faltantes con estadísticos obtenidos de los datos que sí tenemos. "
   ]
  },
  {
   "cell_type": "markdown",
   "metadata": {},
   "source": [
    "También vamos a utilizar en la transformación de los datos el escalado, ya que en lo datasets solemos tener distintas variables, medidas en diferentes unidades y con distintas escalas. Por ejemplo,en nuestro dataset, vamos a encontrar diferentes datos como lo son precios, áreas, unidades como lo son número de baños o habitaciones, entre otros. Y a pesar de que estas unidades facilitan el entendimiento humano, el modelo de machine learning puede llegar a  confundirse. "
   ]
  },
  {
   "cell_type": "markdown",
   "metadata": {},
   "source": [
    "Finalmente vamos a utlizar el modelo de trabsformación de datos de variable categorica, especificamente una técnica llamada Label Encoding. Es importante reconocer con qué tipo de variable estamos trabajando ya que esto nos ayudará a operar correctamente con ella. En el caso de las variables categóricas ordinales, tiene sentido una asignación del tipo que hicimos para las propiedades, teniendo cuidado de mantener una distancia “realista” entre cada etiqueta y no asumir que, porque ahora se trata de números, hay que sumarlos entre sí."
   ]
  },
  {
   "cell_type": "code",
   "execution_count": 1,
   "metadata": {},
   "outputs": [],
   "source": [
    "# importar dependencias\n",
    "import numpy as np\n",
    "import pandas as pd\n",
    "import matplotlib.pylab as plt\n",
    "# La siguiente línea es para ver las imagenes dentro del notebook\n",
    "%matplotlib inline\n",
    "# Acá configuramos el tamaño de las figuras\n",
    "plt.rcParams['figure.figsize'] = (12,8)"
   ]
  },
  {
   "cell_type": "code",
   "execution_count": 2,
   "metadata": {},
   "outputs": [],
   "source": [
    "#Se carga el dataset original\n",
    "df = pd.read_csv(\"DS_Proyecto_01_Datos_Properati.csv\", parse_dates = [\"created_on\"])"
   ]
  },
  {
   "cell_type": "code",
   "execution_count": 3,
   "metadata": {},
   "outputs": [],
   "source": [
    "#Se realiza nuevamente el filtrado del dataset según las características indicadas (Capital federal: Departamento, PH, Casa)\n",
    "df_filtered1= df[(df.property_type.isin([\"Departamento\", \"PH\", \"Casa\"]))& (df.l2.isin([\"Capital Federal\"]))]"
   ]
  },
  {
   "cell_type": "code",
   "execution_count": 4,
   "metadata": {},
   "outputs": [],
   "source": [
    "#Superficie total menor a 1000 m2 y mayor a 15 m2\n",
    "df_filtered2= df_filtered1[df_filtered1[\"surface_total\"] < 1000]\n",
    "df_filtered3= df_filtered2[df_filtered2[\"surface_total\"] > 15]"
   ]
  },
  {
   "cell_type": "code",
   "execution_count": 5,
   "metadata": {},
   "outputs": [],
   "source": [
    "#precio menor a 4000000 dólares\n",
    "df_filtered4= df_filtered3[df_filtered3[\"price\"] < 4000000]"
   ]
  },
  {
   "cell_type": "markdown",
   "metadata": {},
   "source": [
    "IMPUTACION DE DATOS FALTANTES: Se aplicara un metodo de interpolacion lineal "
   ]
  },
  {
   "cell_type": "code",
   "execution_count": 6,
   "metadata": {},
   "outputs": [],
   "source": [
    "df_interpolado = df_filtered4.interpolate(method='linear', axis=0).bfill()"
   ]
  },
  {
   "cell_type": "markdown",
   "metadata": {},
   "source": [
    "ENCODING: se aplicara un proceso de encoding para la variable l3 (tipo de Barrio) \n",
    "Para codificar valores categóricos es utilizar una técnica llamada codificación de etiquetas.\n",
    "Consiste simplemente  en convertir cada valor de una columna en un número.\n",
    "Si mandamos a imprimir los tipos de datos vemos que el atributo l3 es un objeto"
   ]
  },
  {
   "cell_type": "code",
   "execution_count": 7,
   "metadata": {},
   "outputs": [
    {
     "name": "stdout",
     "output_type": "stream",
     "text": [
      "start_date                 object\n",
      "end_date                   object\n",
      "created_on         datetime64[ns]\n",
      "lat                       float64\n",
      "lon                       float64\n",
      "l1                         object\n",
      "l2                         object\n",
      "l3                         object\n",
      "rooms                     float64\n",
      "bedrooms                  float64\n",
      "bathrooms                 float64\n",
      "surface_total             float64\n",
      "surface_covered           float64\n",
      "price                     float64\n",
      "currency                   object\n",
      "title                      object\n",
      "description                object\n",
      "property_type              object\n",
      "operation_type             object\n",
      "dtype: object\n"
     ]
    }
   ],
   "source": [
    "\n",
    "print(df_interpolado.dtypes)"
   ]
  },
  {
   "cell_type": "code",
   "execution_count": 8,
   "metadata": {},
   "outputs": [
    {
     "name": "stdout",
     "output_type": "stream",
     "text": [
      "start_date                 object\n",
      "end_date                   object\n",
      "created_on         datetime64[ns]\n",
      "lat                       float64\n",
      "lon                       float64\n",
      "l1                         object\n",
      "l2                         object\n",
      "l3                       category\n",
      "rooms                     float64\n",
      "bedrooms                  float64\n",
      "bathrooms                 float64\n",
      "surface_total             float64\n",
      "surface_covered           float64\n",
      "price                     float64\n",
      "currency                   object\n",
      "title                      object\n",
      "description                object\n",
      "property_type              object\n",
      "operation_type             object\n",
      "dtype: object\n"
     ]
    }
   ],
   "source": [
    "#Luego convertimos esa columna en una variable categorica\n",
    "df_interpolado[\"l3\"] = df_interpolado[\"l3\"].astype('category')\n",
    "print(df_interpolado.dtypes)\n",
    "#Luego aplicamos el metodo de encoding label\n",
    "df_interpolado[\"l3\"] = df_interpolado[\"l3\"].cat.codes"
   ]
  },
  {
   "cell_type": "code",
   "execution_count": 9,
   "metadata": {},
   "outputs": [],
   "source": [
    "#seleccionar las columnas l3, rooms, bedrooms, barhrooms, surface_total, surface_covered y price\n",
    "df_datos_final = df_interpolado.drop(columns=['start_date','end_date','created_on','lat','lon','l1','l2','currency','title','description','property_type','operation_type'])"
   ]
  },
  {
   "cell_type": "markdown",
   "metadata": {},
   "source": [
    "ESCALADO: Escalado de datos usando la tecnica de NORMALIZACION MEDIA\n",
    "La normalización media es una de las formas más fáciles de normalizar los Dataframes de rangos variados.\n",
    "se hace restando la media y dividiendo por la desviación estándar para todos los elementos del Dataframe.\n",
    "Para eso se crea una pequeña funcion que nos hace esa tarea"
   ]
  },
  {
   "cell_type": "code",
   "execution_count": 10,
   "metadata": {},
   "outputs": [],
   "source": [
    "def mean_norm(df_input):\n",
    "    return df_input.apply(lambda x: (x-x.mean())/ x.std(), axis=0)"
   ]
  },
  {
   "cell_type": "code",
   "execution_count": 11,
   "metadata": {},
   "outputs": [
    {
     "name": "stdout",
     "output_type": "stream",
     "text": [
      "         l3     rooms  bedrooms  bathrooms  surface_total  surface_covered  \\\n",
      "0  0.890826  3.054018  4.758268   0.526798       0.582808         0.356385   \n",
      "1 -0.977123 -0.769715 -0.951820   0.526798      -0.327062        -0.172718   \n",
      "2  0.143646 -0.769715 -0.951820  -0.649855      -0.652015        -0.256600   \n",
      "3  0.143646 -0.769715 -0.951820  -0.649855      -0.132090        -0.224337   \n",
      "5  1.264416 -0.769715 -0.951820  -0.649855      -0.509036        -0.185623   \n",
      "\n",
      "      price  \n",
      "0 -0.371713  \n",
      "1 -0.351298  \n",
      "2 -0.466982  \n",
      "3  0.111438  \n",
      "5 -0.381920  \n"
     ]
    }
   ],
   "source": [
    "# Ahora se usa la funcion creada\n",
    "df_norm = mean_norm(df_datos_final)\n",
    "df_final=df_norm\n",
    "print(df_norm.head())"
   ]
  },
  {
   "cell_type": "code",
   "execution_count": 12,
   "metadata": {
    "scrolled": true
   },
   "outputs": [
    {
     "data": {
      "text/html": [
       "<div>\n",
       "<style scoped>\n",
       "    .dataframe tbody tr th:only-of-type {\n",
       "        vertical-align: middle;\n",
       "    }\n",
       "\n",
       "    .dataframe tbody tr th {\n",
       "        vertical-align: top;\n",
       "    }\n",
       "\n",
       "    .dataframe thead th {\n",
       "        text-align: right;\n",
       "    }\n",
       "</style>\n",
       "<table border=\"1\" class=\"dataframe\">\n",
       "  <thead>\n",
       "    <tr style=\"text-align: right;\">\n",
       "      <th></th>\n",
       "      <th>l3</th>\n",
       "      <th>rooms</th>\n",
       "      <th>bedrooms</th>\n",
       "      <th>bathrooms</th>\n",
       "      <th>surface_total</th>\n",
       "      <th>surface_covered</th>\n",
       "      <th>price</th>\n",
       "    </tr>\n",
       "  </thead>\n",
       "  <tbody>\n",
       "    <tr>\n",
       "      <th>l3</th>\n",
       "      <td>1.000000</td>\n",
       "      <td>-0.033534</td>\n",
       "      <td>-0.047005</td>\n",
       "      <td>-0.040270</td>\n",
       "      <td>0.013130</td>\n",
       "      <td>0.000616</td>\n",
       "      <td>0.013876</td>\n",
       "    </tr>\n",
       "    <tr>\n",
       "      <th>rooms</th>\n",
       "      <td>-0.033534</td>\n",
       "      <td>1.000000</td>\n",
       "      <td>0.925983</td>\n",
       "      <td>0.602693</td>\n",
       "      <td>0.725676</td>\n",
       "      <td>0.305091</td>\n",
       "      <td>0.483126</td>\n",
       "    </tr>\n",
       "    <tr>\n",
       "      <th>bedrooms</th>\n",
       "      <td>-0.047005</td>\n",
       "      <td>0.925983</td>\n",
       "      <td>1.000000</td>\n",
       "      <td>0.605627</td>\n",
       "      <td>0.695591</td>\n",
       "      <td>0.291844</td>\n",
       "      <td>0.445283</td>\n",
       "    </tr>\n",
       "    <tr>\n",
       "      <th>bathrooms</th>\n",
       "      <td>-0.040270</td>\n",
       "      <td>0.602693</td>\n",
       "      <td>0.605627</td>\n",
       "      <td>1.000000</td>\n",
       "      <td>0.650115</td>\n",
       "      <td>0.275286</td>\n",
       "      <td>0.637212</td>\n",
       "    </tr>\n",
       "    <tr>\n",
       "      <th>surface_total</th>\n",
       "      <td>0.013130</td>\n",
       "      <td>0.725676</td>\n",
       "      <td>0.695591</td>\n",
       "      <td>0.650115</td>\n",
       "      <td>1.000000</td>\n",
       "      <td>0.376260</td>\n",
       "      <td>0.687085</td>\n",
       "    </tr>\n",
       "    <tr>\n",
       "      <th>surface_covered</th>\n",
       "      <td>0.000616</td>\n",
       "      <td>0.305091</td>\n",
       "      <td>0.291844</td>\n",
       "      <td>0.275286</td>\n",
       "      <td>0.376260</td>\n",
       "      <td>1.000000</td>\n",
       "      <td>0.298575</td>\n",
       "    </tr>\n",
       "    <tr>\n",
       "      <th>price</th>\n",
       "      <td>0.013876</td>\n",
       "      <td>0.483126</td>\n",
       "      <td>0.445283</td>\n",
       "      <td>0.637212</td>\n",
       "      <td>0.687085</td>\n",
       "      <td>0.298575</td>\n",
       "      <td>1.000000</td>\n",
       "    </tr>\n",
       "  </tbody>\n",
       "</table>\n",
       "</div>"
      ],
      "text/plain": [
       "                       l3     rooms  bedrooms  bathrooms  surface_total  \\\n",
       "l3               1.000000 -0.033534 -0.047005  -0.040270       0.013130   \n",
       "rooms           -0.033534  1.000000  0.925983   0.602693       0.725676   \n",
       "bedrooms        -0.047005  0.925983  1.000000   0.605627       0.695591   \n",
       "bathrooms       -0.040270  0.602693  0.605627   1.000000       0.650115   \n",
       "surface_total    0.013130  0.725676  0.695591   0.650115       1.000000   \n",
       "surface_covered  0.000616  0.305091  0.291844   0.275286       0.376260   \n",
       "price            0.013876  0.483126  0.445283   0.637212       0.687085   \n",
       "\n",
       "                 surface_covered     price  \n",
       "l3                      0.000616  0.013876  \n",
       "rooms                   0.305091  0.483126  \n",
       "bedrooms                0.291844  0.445283  \n",
       "bathrooms               0.275286  0.637212  \n",
       "surface_total           0.376260  0.687085  \n",
       "surface_covered         1.000000  0.298575  \n",
       "price                   0.298575  1.000000  "
      ]
     },
     "execution_count": 12,
     "metadata": {},
     "output_type": "execute_result"
    }
   ],
   "source": [
    "df_final.corr()"
   ]
  },
  {
   "cell_type": "code",
   "execution_count": 13,
   "metadata": {},
   "outputs": [
    {
     "data": {
      "text/html": [
       "<div>\n",
       "<style scoped>\n",
       "    .dataframe tbody tr th:only-of-type {\n",
       "        vertical-align: middle;\n",
       "    }\n",
       "\n",
       "    .dataframe tbody tr th {\n",
       "        vertical-align: top;\n",
       "    }\n",
       "\n",
       "    .dataframe thead th {\n",
       "        text-align: right;\n",
       "    }\n",
       "</style>\n",
       "<table border=\"1\" class=\"dataframe\">\n",
       "  <thead>\n",
       "    <tr style=\"text-align: right;\">\n",
       "      <th></th>\n",
       "      <th>l3</th>\n",
       "      <th>rooms</th>\n",
       "      <th>bedrooms</th>\n",
       "      <th>bathrooms</th>\n",
       "      <th>surface_total</th>\n",
       "      <th>surface_covered</th>\n",
       "      <th>price</th>\n",
       "    </tr>\n",
       "  </thead>\n",
       "  <tbody>\n",
       "    <tr>\n",
       "      <th>0</th>\n",
       "      <td>0.890826</td>\n",
       "      <td>3.054018</td>\n",
       "      <td>4.758268</td>\n",
       "      <td>0.526798</td>\n",
       "      <td>0.582808</td>\n",
       "      <td>0.356385</td>\n",
       "      <td>-0.371713</td>\n",
       "    </tr>\n",
       "    <tr>\n",
       "      <th>1</th>\n",
       "      <td>-0.977123</td>\n",
       "      <td>-0.769715</td>\n",
       "      <td>-0.951820</td>\n",
       "      <td>0.526798</td>\n",
       "      <td>-0.327062</td>\n",
       "      <td>-0.172718</td>\n",
       "      <td>-0.351298</td>\n",
       "    </tr>\n",
       "    <tr>\n",
       "      <th>2</th>\n",
       "      <td>0.143646</td>\n",
       "      <td>-0.769715</td>\n",
       "      <td>-0.951820</td>\n",
       "      <td>-0.649855</td>\n",
       "      <td>-0.652015</td>\n",
       "      <td>-0.256600</td>\n",
       "      <td>-0.466982</td>\n",
       "    </tr>\n",
       "    <tr>\n",
       "      <th>3</th>\n",
       "      <td>0.143646</td>\n",
       "      <td>-0.769715</td>\n",
       "      <td>-0.951820</td>\n",
       "      <td>-0.649855</td>\n",
       "      <td>-0.132090</td>\n",
       "      <td>-0.224337</td>\n",
       "      <td>0.111438</td>\n",
       "    </tr>\n",
       "    <tr>\n",
       "      <th>5</th>\n",
       "      <td>1.264416</td>\n",
       "      <td>-0.769715</td>\n",
       "      <td>-0.951820</td>\n",
       "      <td>-0.649855</td>\n",
       "      <td>-0.509036</td>\n",
       "      <td>-0.185623</td>\n",
       "      <td>-0.381920</td>\n",
       "    </tr>\n",
       "    <tr>\n",
       "      <th>...</th>\n",
       "      <td>...</td>\n",
       "      <td>...</td>\n",
       "      <td>...</td>\n",
       "      <td>...</td>\n",
       "      <td>...</td>\n",
       "      <td>...</td>\n",
       "      <td>...</td>\n",
       "    </tr>\n",
       "    <tr>\n",
       "      <th>146554</th>\n",
       "      <td>0.143646</td>\n",
       "      <td>0.759778</td>\n",
       "      <td>0.951543</td>\n",
       "      <td>1.703452</td>\n",
       "      <td>1.037743</td>\n",
       "      <td>0.169263</td>\n",
       "      <td>1.047116</td>\n",
       "    </tr>\n",
       "    <tr>\n",
       "      <th>146555</th>\n",
       "      <td>0.143646</td>\n",
       "      <td>-0.004968</td>\n",
       "      <td>-0.000139</td>\n",
       "      <td>0.526798</td>\n",
       "      <td>0.634801</td>\n",
       "      <td>0.317670</td>\n",
       "      <td>0.740894</td>\n",
       "    </tr>\n",
       "    <tr>\n",
       "      <th>146556</th>\n",
       "      <td>0.143646</td>\n",
       "      <td>0.759778</td>\n",
       "      <td>-0.000139</td>\n",
       "      <td>0.526798</td>\n",
       "      <td>2.883480</td>\n",
       "      <td>0.375743</td>\n",
       "      <td>0.911017</td>\n",
       "    </tr>\n",
       "    <tr>\n",
       "      <th>146557</th>\n",
       "      <td>0.143646</td>\n",
       "      <td>-0.004968</td>\n",
       "      <td>-0.000139</td>\n",
       "      <td>0.526798</td>\n",
       "      <td>0.647799</td>\n",
       "      <td>0.388648</td>\n",
       "      <td>0.536746</td>\n",
       "    </tr>\n",
       "    <tr>\n",
       "      <th>146558</th>\n",
       "      <td>0.143646</td>\n",
       "      <td>0.759778</td>\n",
       "      <td>0.951543</td>\n",
       "      <td>4.056758</td>\n",
       "      <td>1.622660</td>\n",
       "      <td>0.808058</td>\n",
       "      <td>4.109336</td>\n",
       "    </tr>\n",
       "  </tbody>\n",
       "</table>\n",
       "<p>82347 rows × 7 columns</p>\n",
       "</div>"
      ],
      "text/plain": [
       "              l3     rooms  bedrooms  bathrooms  surface_total  \\\n",
       "0       0.890826  3.054018  4.758268   0.526798       0.582808   \n",
       "1      -0.977123 -0.769715 -0.951820   0.526798      -0.327062   \n",
       "2       0.143646 -0.769715 -0.951820  -0.649855      -0.652015   \n",
       "3       0.143646 -0.769715 -0.951820  -0.649855      -0.132090   \n",
       "5       1.264416 -0.769715 -0.951820  -0.649855      -0.509036   \n",
       "...          ...       ...       ...        ...            ...   \n",
       "146554  0.143646  0.759778  0.951543   1.703452       1.037743   \n",
       "146555  0.143646 -0.004968 -0.000139   0.526798       0.634801   \n",
       "146556  0.143646  0.759778 -0.000139   0.526798       2.883480   \n",
       "146557  0.143646 -0.004968 -0.000139   0.526798       0.647799   \n",
       "146558  0.143646  0.759778  0.951543   4.056758       1.622660   \n",
       "\n",
       "        surface_covered     price  \n",
       "0              0.356385 -0.371713  \n",
       "1             -0.172718 -0.351298  \n",
       "2             -0.256600 -0.466982  \n",
       "3             -0.224337  0.111438  \n",
       "5             -0.185623 -0.381920  \n",
       "...                 ...       ...  \n",
       "146554         0.169263  1.047116  \n",
       "146555         0.317670  0.740894  \n",
       "146556         0.375743  0.911017  \n",
       "146557         0.388648  0.536746  \n",
       "146558         0.808058  4.109336  \n",
       "\n",
       "[82347 rows x 7 columns]"
      ]
     },
     "metadata": {},
     "output_type": "display_data"
    }
   ],
   "source": [
    "display(df_final)"
   ]
  },
  {
   "cell_type": "markdown",
   "metadata": {},
   "source": [
    "Las mejores variables para predecir el precio de una propiedad es el barrio, el numero de rooms, bedrooms y bathrooms"
   ]
  },
  {
   "cell_type": "markdown",
   "metadata": {},
   "source": [
    "Se Vuelve a entrenar el modelo implementado en la Parte 1 - en particular, el árbol de decisión - con este nuevo dataset"
   ]
  },
  {
   "cell_type": "code",
   "execution_count": 14,
   "metadata": {},
   "outputs": [],
   "source": [
    "# Para empezar vamos a separar el dataset en un conjunto de entrenamiento (80%) y un conjunto de test (20%).\n",
    "# Se separa el dataset en X_train, X_test, y_train e y_test con el tamaño correspondiente\n",
    "X = df_final.drop(['price'], axis=1) #esto quita a la columna target\n",
    "y = df_datos_final['price']                #esta es la columna target"
   ]
  },
  {
   "cell_type": "code",
   "execution_count": 15,
   "metadata": {},
   "outputs": [],
   "source": [
    "#importar módulo Skl\n",
    "from sklearn.model_selection import train_test_split"
   ]
  },
  {
   "cell_type": "code",
   "execution_count": 16,
   "metadata": {},
   "outputs": [],
   "source": [
    "# Se realiza la separación a continuación en esta celda\n",
    "#separa conjuntos\n",
    "X_train, X_test, y_train, y_test = train_test_split (X,y, test_size=0.2)"
   ]
  },
  {
   "cell_type": "code",
   "execution_count": 17,
   "metadata": {},
   "outputs": [
    {
     "name": "stdout",
     "output_type": "stream",
     "text": [
      "Train test size:  (65877, 6)\n",
      "Test train size:  (16470, 6)\n"
     ]
    }
   ],
   "source": [
    "print(\"Train test size: \", X_train.shape)\n",
    "print(\"Test train size: \", X_test.shape)"
   ]
  },
  {
   "cell_type": "markdown",
   "metadata": {},
   "source": [
    "Se Aplica el Algoritmo de **Árboles de decisión**\n",
    "\n",
    " Lo primero que vamos a hacer es entrenar un árbol de decisión y usar de métrica al RMSE.\n",
    " Para poder obtener el RMSE vamos a medir el mean_squared_error y obtener su raíz cuadrada."
   ]
  },
  {
   "cell_type": "code",
   "execution_count": 18,
   "metadata": {},
   "outputs": [],
   "source": [
    "# En esta celda se carga el regresor y se realiza el entrenamiento\n",
    "from sklearn.tree import DecisionTreeRegressor"
   ]
  },
  {
   "cell_type": "code",
   "execution_count": 19,
   "metadata": {},
   "outputs": [
    {
     "data": {
      "text/plain": [
       "DecisionTreeRegressor()"
      ]
     },
     "execution_count": 19,
     "metadata": {},
     "output_type": "execute_result"
    }
   ],
   "source": [
    "tree_reg = DecisionTreeRegressor() #asigna el DTRegressor a tree_reg. Es regresor porque es una variable continua (precios).\n",
    "tree_reg.fit(X_train, y_train)     #entrena en los dos conjuntos"
   ]
  },
  {
   "cell_type": "markdown",
   "metadata": {},
   "source": [
    "Con el modelo entrenado se realiza la predicción sobre el conjunto de test X_test y se guarda el resultado en una variable y_pred"
   ]
  },
  {
   "cell_type": "code",
   "execution_count": 20,
   "metadata": {},
   "outputs": [],
   "source": [
    "# Acá realizá la predicción\n",
    "y_pred = tree_reg.predict(X_test)"
   ]
  },
  {
   "cell_type": "markdown",
   "metadata": {},
   "source": [
    "Calculá el rmse sacando la raíz cuadrada de mean_squared_error entre y_test e y_pred y mostrá el resultado"
   ]
  },
  {
   "cell_type": "code",
   "execution_count": 21,
   "metadata": {},
   "outputs": [
    {
     "name": "stdout",
     "output_type": "stream",
     "text": [
      "RSME:  107467.75651654141\n"
     ]
    }
   ],
   "source": [
    "# En esta celda calculá el rmse\n",
    "from sklearn.metrics import mean_squared_error\n",
    "import numpy as np\n",
    "tree_mse = mean_squared_error(y_test, y_pred) #error cuadrático medio\n",
    "tree_rmse = np.sqrt(tree_mse)                #para sacar la raíz cuadrada\n",
    "print(\"RSME: \", tree_rmse)"
   ]
  },
  {
   "cell_type": "markdown",
   "metadata": {},
   "source": [
    "Analizar el cambio en el RMSE a medida que es más profundo el árbol de decisión, tanto en training como en testing.\n",
    "\n",
    "Para esto, se itera de 5 en 5 en el parámetro max_depth y observá como impacta en el RMSE.\n",
    "Creá dos arreglos rmses_train y rmses_test para ir guardando los rmse de cada profundidad\n",
    "Ahora graficamos los valores que guardamos en los arreglos rmses_train y rmses_test"
   ]
  },
  {
   "cell_type": "code",
   "execution_count": 22,
   "metadata": {},
   "outputs": [],
   "source": [
    "rmses_train = []\n",
    "rmses_test= []\n",
    "\n",
    "profundidad = [5, 10, 15, 20, 25, 30]\n",
    "for value in profundidad:\n",
    "    #asigna las profundidades del árbol mediante el loop\n",
    "    deep_reg_tree = DecisionTreeRegressor(max_depth=value)\n",
    "\n",
    "    #entrena el modelo\n",
    "    deep_reg_tree.fit(X_train, y_train)\n",
    "\n",
    "    #predice sobre X_test, sacando el MSE y RMSE sobre y_test e y_pred_test\n",
    "    y_pred_test = deep_reg_tree.predict(X_test)\n",
    "    tree_mse_test = mean_squared_error(y_test, y_pred_test)\n",
    "    tree_rmse_test = np.sqrt(tree_mse_test)\n",
    "\n",
    "    #predice sobre X_train, sacando el MSE y RMSE sobre y_test e y_pred_test\n",
    "    y_pred_train = deep_reg_tree.predict(X_train)\n",
    "    tree_mse_train = mean_squared_error(y_train, y_pred_train)\n",
    "    tree_rmse_train = np.sqrt(tree_mse_train)\n",
    "\n",
    "    rmses_train.append(tree_rmse_train) #agrega la información a las listas de arriba\n",
    "    rmses_test.append(tree_rmse_test) #agrega la información a las listas de arriba"
   ]
  },
  {
   "cell_type": "code",
   "execution_count": 23,
   "metadata": {},
   "outputs": [
    {
     "data": {
      "image/png": "[encoded data removed]",
      "text/plain": [
       "<Figure size 864x576 with 1 Axes>"
      ]
     },
     "metadata": {
      "needs_background": "light"
     },
     "output_type": "display_data"
    }
   ],
   "source": [
    "# Ahora se grafican los errores y se obtiene el valor optimo de la profunidad del arbol\n",
    "import matplotlib.pyplot as plt\n",
    "plt.plot(range(1,30, 5), rmses_train, label='RMSE Training')\n",
    "plt.plot(range(1,30, 5), rmses_test, label='RMSE Testing')\n",
    "plt.ylim((0, 200000))\n",
    "plt.legend(loc=\"best\")\n",
    "plt.title(\"RMSE Training vs RMSE Testing para árboles de decisión\")\n",
    "plt.xlabel(\"Profundidad\") \n",
    "plt.ylabel(\"RMSE\") \n",
    "plt.show()"
   ]
  },
  {
   "cell_type": "markdown",
   "metadata": {},
   "source": [
    "CONCLUSION :\n",
    "Se obtuvo un menor valor del parametro RMSE comparado con la parte 1,\n",
    "esto se debe al preprocesamiento que se hizo de los datos, incluyo el parametro \"tipo de barrio\"\n",
    "el cual se tuvo que transformar de categorico a numerico, se paso de 5 atributos a 6 atributos.\n",
    "Ademas se nota el efecto positivo de la normalizacion de los datos.\n",
    "El valor optimo de la profundidad del arbol esta entre 15 y 20 para un error levemento superior a 25000"
   ]
  },
  {
   "cell_type": "markdown",
   "metadata": {},
   "source": [
    "## PARTE B - Modelos Avanzados## "
   ]
  },
  {
   "cell_type": "code",
   "execution_count": 1,
   "metadata": {},
   "outputs": [],
   "source": [
    "import warnings\n",
    "warnings.filterwarnings(\"ignore\")\n",
    "\n",
    "# importar dependencias\n",
    "import numpy as np\n",
    "import pandas as pd\n",
    "import matplotlib.pylab as plt\n",
    "import seaborn as sns"
   ]
  },
  {
   "cell_type": "code",
   "execution_count": 2,
   "metadata": {},
   "outputs": [],
   "source": [
    "#Se carga el dataset original\n",
    "df = pd.read_csv(\"DS_Proyecto_01_Datos_Properati.csv\", parse_dates = [\"created_on\"])"
   ]
  },
  {
   "cell_type": "code",
   "execution_count": 3,
   "metadata": {},
   "outputs": [],
   "source": [
    "#Se realiza nuevamente el filtrado del dataset según las características indicadas (Capital federal: Departamento, PH, Casa)\n",
    "df_filtered1= df[(df.property_type.isin([\"Departamento\", \"PH\", \"Casa\"]))& (df.l2.isin([\"Capital Federal\"]))]"
   ]
  },
  {
   "cell_type": "code",
   "execution_count": 4,
   "metadata": {},
   "outputs": [],
   "source": [
    "#Superficie total menor a 1000 m2 y mayor a 15 m2\n",
    "df_filtered2= df_filtered1[df_filtered1[\"surface_total\"] < 1000]\n",
    "df_filtered3= df_filtered2[df_filtered2[\"surface_total\"] > 15]"
   ]
  },
  {
   "cell_type": "code",
   "execution_count": 5,
   "metadata": {},
   "outputs": [],
   "source": [
    "#precio menor a 4000000 dólares\n",
    "df_filtered4= df_filtered3[df_filtered3[\"price\"] < 4000000]"
   ]
  },
  {
   "cell_type": "code",
   "execution_count": 6,
   "metadata": {},
   "outputs": [],
   "source": [
    "#seleccionar las columnas rooms, bedrooms, barhrooms, surface_total, surface_covered y price\n",
    "df_final = df_filtered4.drop(columns=['start_date','end_date','created_on','lat','lon','l1','l2','l3','currency','title','description','property_type','operation_type'])"
   ]
  },
  {
   "cell_type": "code",
   "execution_count": 7,
   "metadata": {},
   "outputs": [],
   "source": [
    "df_final.dropna(subset=['surface_covered', \"bathrooms\"], inplace = True)"
   ]
  },
  {
   "cell_type": "code",
   "execution_count": 8,
   "metadata": {},
   "outputs": [],
   "source": [
    "# Para empezar vamos a separar el dataset en un conjunto de entrenamiento (80%) y un conjunto de test (20%).\n",
    "# Se separa el dataset en X_train, X_test, y_train e y_test con el tamaño correspondiente\n",
    "X = df_final.drop(['price'], axis=1) #esto quita a la columna target\n",
    "y = df_final['price']                #esta es la columna target"
   ]
  },
  {
   "cell_type": "code",
   "execution_count": 9,
   "metadata": {},
   "outputs": [],
   "source": [
    "#importar módulo Skl\n",
    "from sklearn.model_selection import train_test_split"
   ]
  },
  {
   "cell_type": "code",
   "execution_count": 10,
   "metadata": {},
   "outputs": [
    {
     "name": "stdout",
     "output_type": "stream",
     "text": [
      "Train test size:  (64794, 5)\n",
      "Test train size:  (16199, 5)\n"
     ]
    }
   ],
   "source": [
    "# Se realiza la separación a continuación en esta celda\n",
    "#separa conjuntos\n",
    "X_train, X_test, y_train, y_test = train_test_split (X,y, test_size=0.2)\n",
    "\n",
    "print(\"Train test size: \", X_train.shape)\n",
    "print(\"Test train size: \", X_test.shape)"
   ]
  },
  {
   "cell_type": "markdown",
   "metadata": {},
   "source": [
    "**6.\tElige dos de los modelos avanzados vistos Compara con el desempeño obtenido en la parte 01**\n",
    "Entrénalos y evalúalos con sus argumentos por defecto. No te olvides de hacer un train/test split y usar Validación Cruzada."
   ]
  },
  {
   "cell_type": "markdown",
   "metadata": {},
   "source": [
    "RESPUESTA: Se eligieron los modelos SVM y Random forest"
   ]
  },
  {
   "cell_type": "code",
   "execution_count": 12,
   "metadata": {},
   "outputs": [],
   "source": [
    "#Lista para guardar el score de cada modelo\n",
    "SCORE_modelo=[]"
   ]
  },
  {
   "cell_type": "code",
   "execution_count": 13,
   "metadata": {},
   "outputs": [
    {
     "data": {
      "text/plain": [
       "RandomForestRegressor()"
      ]
     },
     "execution_count": 13,
     "metadata": {},
     "output_type": "execute_result"
    }
   ],
   "source": [
    "# Entrenando el Random Forest \n",
    "# Importando el modelo Random forest\n",
    "from sklearn.ensemble import RandomForestRegressor\n",
    "random_forest_model = RandomForestRegressor() # Instanciar el modelo de estimacion\n",
    "random_forest_model.fit(X_train , y_train) # Entrenando"
   ]
  },
  {
   "cell_type": "code",
   "execution_count": 14,
   "metadata": {},
   "outputs": [
    {
     "name": "stdout",
     "output_type": "stream",
     "text": [
      " \n",
      " Los resultados de la validacion cruzada para Random Forest es: \n",
      "[0.71701144 0.8565118  0.80166625 0.83232378 0.8693618 ]\n",
      "Accuracy_ Random Forest: 0.82 (+/- 0.03)\n"
     ]
    }
   ],
   "source": [
    "#Validacion cruzada\n",
    "from sklearn.model_selection import cross_val_score\n",
    "\n",
    "#  Para validar Se toma como entrada el número de diferentes divisiones (pliegues) que se utilizarán (5 en el ejemplo a continuación).\n",
    "scores_random_forest = cross_val_score(random_forest_model, X, y, cv=5)\n",
    "print(' ')\n",
    "print(' Los resultados de la validacion cruzada para Random Forest es: ')\n",
    "print(scores_random_forest)\n",
    "print (\"Accuracy_ Random Forest: %0.2f (+/- %0.2f)\" % (scores_random_forest.mean(), scores_random_forest.std() / 2))\n",
    "SCORE_modelo.append(scores_random_forest.mean()) # Se agrega a la lista el desempeño"
   ]
  },
  {
   "cell_type": "code",
   "execution_count": 15,
   "metadata": {},
   "outputs": [
    {
     "name": "stdout",
     "output_type": "stream",
     "text": [
      " \n",
      " Los resultados de la validacion cruzada para AdaBoost: \n",
      "[0.46034138 0.55098589 0.33778895 0.37729998 0.62954688]\n",
      "Accuracy_ AdaBoost: 0.47 (+/- 0.05)\n"
     ]
    }
   ],
   "source": [
    "# Entrenando el AdaboosRegressor \n",
    "# Importando el modelo AdaboosRegressor\n",
    "from sklearn.ensemble import AdaBoostRegressor\n",
    "AdaBoost_model = AdaBoostRegressor()\n",
    "AdaBoost_model.fit(X_train,y_train)\n",
    "scores_AdaBoost = cross_val_score(AdaBoost_model, X, y, cv=5)\n",
    "print(' ')\n",
    "print(' Los resultados de la validacion cruzada para AdaBoost: ')\n",
    "print(scores_AdaBoost)\n",
    "print (\"Accuracy_ AdaBoost: %0.2f (+/- %0.2f)\" % (scores_AdaBoost.mean(), scores_AdaBoost.std() / 2))\n",
    "SCORE_modelo.append(scores_AdaBoost.mean()) # Se agrega a la lista el desempeño"
   ]
  },
  {
   "cell_type": "code",
   "execution_count": 16,
   "metadata": {},
   "outputs": [
    {
     "name": "stdout",
     "output_type": "stream",
     "text": [
      " \n",
      " Los resultados de la validacion cruzada para Arbol de decision: \n",
      "[0.62409023 0.79328261 0.73919172 0.76855837 0.80467849]\n",
      "Accuracy_ arbol: 0.75 (+/- 0.03)\n"
     ]
    }
   ],
   "source": [
    "# Entrenando nuevamente el ARBOL DE DESICION DE la parte 1 SOLO PARA comparar \n",
    "# Importando el modelo\n",
    "from sklearn.tree import DecisionTreeRegressor\n",
    "tree_reg = DecisionTreeRegressor() #asigna el DTRegressor a tree_reg. Es regresor porque es una variable continua (precios).\n",
    "tree_reg.fit(X_train, y_train)     #entrena en los dos conjuntos\n",
    "\n",
    "#  Para validar Se toma como entrada el número de diferentes divisiones (pliegues) que se utilizarán (5 en el ejemplo a continuación).\n",
    "scores_arbol = cross_val_score(tree_reg, X, y, cv=5)\n",
    "print(' ')\n",
    "print(' Los resultados de la validacion cruzada para Arbol de decision: ')\n",
    "print(scores_arbol)\n",
    "print (\"Accuracy_ arbol: %0.2f (+/- %0.2f)\" % (scores_arbol.mean(), scores_arbol.std() / 2))\n",
    "SCORE_modelo.append(scores_arbol.mean())"
   ]
  },
  {
   "cell_type": "markdown",
   "metadata": {},
   "source": [
    "**Conclusion:** El modelo avanzado Random Forest genero mejores resultados (Accuracy= 0.80 (+/- 0.03) que\n",
    "el modelo de la PARTE 1 (Accuracy: 0.75 (+/- 0.03), sin embargo para el modelo AdaBoost usando los\n",
    "parametros por defecto, la confiablidad del modelo fue inferior , presentando un valor de 0.43 (+/- 0.07)"
   ]
  },
  {
   "cell_type": "code",
   "execution_count": 17,
   "metadata": {},
   "outputs": [
    {
     "data": {
      "image/png": "[encoded data removed]",
      "text/plain": [
       "<Figure size 432x288 with 1 Axes>"
      ]
     },
     "metadata": {
      "needs_background": "light"
     },
     "output_type": "display_data"
    }
   ],
   "source": [
    "# Graficar los rendimientos de cada modelo\n",
    "plt.bar(range(3),SCORE_modelo, edgecolor='black')\n",
    "plt.xticks(range(3), ['Random Forest', 'AdaBoost', 'Arbol de desicion'], rotation=60)\n",
    "plt.title(\"Presición de cada Modelo Avanzado\")\n",
    "plt.show()"
   ]
  },
  {
   "cell_type": "markdown",
   "metadata": {},
   "source": [
    "**7. Optimiza sus hiperparámetros mediante Validación Cruzada y Grid Search o Random Search**"
   ]
  },
  {
   "cell_type": "markdown",
   "metadata": {},
   "source": [
    "Optimizacion usando Grid Search"
   ]
  },
  {
   "cell_type": "code",
   "execution_count": 18,
   "metadata": {},
   "outputs": [],
   "source": [
    "# importar la funcion uniform para generar valores aleatorios\n",
    "from scipy.stats import uniform, randint\n",
    "#importar el modulo de busqueda aleatoria\n",
    "from sklearn.model_selection import GridSearchCV"
   ]
  },
  {
   "cell_type": "markdown",
   "metadata": {},
   "source": [
    "Random Forest :Hyperparameter Randomsearching"
   ]
  },
  {
   "cell_type": "code",
   "execution_count": 19,
   "metadata": {},
   "outputs": [],
   "source": [
    "# n_estimators: es el numero de arboles, mientras mas grande mayor poder de prediccion.\n",
    "# random_state: controla la aletaoriedad cuando se busca la mejor división en cada nodo\n",
    "# max_depth:  La profundidad máxima del árbol\n",
    "params = [{'n_estimators': [20,40,60],'random_state': [1,3,5],'max_depth': [1,3,5] }]"
   ]
  },
  {
   "cell_type": "code",
   "execution_count": 20,
   "metadata": {},
   "outputs": [
    {
     "name": "stdout",
     "output_type": "stream",
     "text": [
      "Mejores parametros:\n",
      "{'max_depth': 5, 'n_estimators': 60, 'random_state': 1}\n",
      " \n",
      " Los resultados de optimizacion de Random Forest: \n",
      "[0.6313479  0.69567643 0.65691712 0.68258181 0.71592674]\n",
      "Accuracy_ Random Forest: 0.68 (+/- 0.01)\n",
      "Accuracy_ RandomForest Optimizado (conj. entrenamiento): 0.69\n"
     ]
    }
   ],
   "source": [
    "#PAra hacer la validacion cruzada se usa el parametro \"Scoring\",\n",
    "search_random_forest = GridSearchCV(\n",
    "        random_forest_model, params, scoring= 'r2')\n",
    "search_random_forest.fit(X_train, y_train)\n",
    "print(\"Mejores parametros:\")\n",
    "print(search_random_forest.best_params_)\n",
    "scores_search_random_forest = cross_val_score(search_random_forest, X, y, cv=5)\n",
    "print(' ')\n",
    "print(' Los resultados de optimizacion de Random Forest: ')\n",
    "print(scores_search_random_forest)\n",
    "print (\"Accuracy_ Random Forest: %0.2f (+/- %0.2f)\" % (scores_search_random_forest.mean(), scores_search_random_forest.std() / 2))\n",
    "print('Accuracy_ RandomForest Optimizado (conj. entrenamiento):', round(search_random_forest.best_score_,2))"
   ]
  },
  {
   "cell_type": "markdown",
   "metadata": {},
   "source": [
    "AdaboosRegressor ::Hyperparameter Randomsearching"
   ]
  },
  {
   "cell_type": "code",
   "execution_count": 21,
   "metadata": {},
   "outputs": [
    {
     "name": "stdout",
     "output_type": "stream",
     "text": [
      "Optimizacion para AdaboostRegressor....\n",
      "Mejores parametros:\n",
      "{'learning_rate': 0.5, 'loss': 'exponential', 'n_estimators': 10, 'random_state': 1}\n",
      " \n",
      " Los resultados de optimizacion de AdaBoostRegressor: \n",
      "[0.53879978 0.60036008 0.55805454 0.58528334 0.67225602]\n",
      "Accuracy_ AdaBoost: 0.59 (+/- 0.02)\n",
      "Accuracy_ AdaBoost Optimizado(conj. entrenamiento): 0.61\n"
     ]
    }
   ],
   "source": [
    "# Definicion del juego de parametros a probar\n",
    "print('Optimizacion para AdaboostRegressor....')\n",
    "# configurar el conjunto de parametros por validacion cruzada\n",
    "# Se realizó ejecuciones previas para seleccionar el rango de los parametros\n",
    "# en el caso de la funcion de predidas solo se consideraron linear y exponencial\n",
    "# porque los resultados con  ‘square’, los resultados fueron peores.\n",
    "# En el caso del parametro learning rate (tasa de aprendizaje( reduce la contribución de cada regresor\n",
    "# en el proceso de autoaprendizaje, en teoria mientras mas pequeño mejor.\n",
    "\n",
    "params = [{'n_estimators': [10,30,50],'random_state': [1,3,5],'learning_rate': [0.5,1,1.5],\n",
    "            'loss':['linear', 'exponential'] }]\n",
    "\n",
    "#Para hacer la validacion cruzada se usa el parametro \"Scoring\",\n",
    "search_Ada = GridSearchCV(AdaBoost_model, params, scoring= 'r2')\n",
    "search_Ada.fit(X_train, y_train)\n",
    "print(\"Mejores parametros:\")\n",
    "print(search_Ada.best_params_)\n",
    "scores_search_Ada = cross_val_score(search_Ada, X, y, cv=5)\n",
    "print(' ')\n",
    "print(' Los resultados de optimizacion de AdaBoostRegressor: ')\n",
    "print(scores_search_Ada)\n",
    "print (\"Accuracy_ AdaBoost: %0.2f (+/- %0.2f)\" % (scores_search_Ada.mean(), scores_search_Ada.std() / 2))\n",
    "print('Accuracy_ AdaBoost Optimizado(conj. entrenamiento):', round(search_Ada.best_score_,2))"
   ]
  },
  {
   "cell_type": "markdown",
   "metadata": {},
   "source": [
    "**8.Compara el desempeño de los nuevos modelos entre sí y con el modelo de la Parte A. ¿Cuál elegirías? Justifica.**\n",
    "\n",
    "En este caso particular se selecciona el modelo de Randon Forest por su mejor desempeño\n",
    "en la validacion cruzada. Sin embargo, el modelo de la PARTE A seria el mejor ya que\n",
    "fue creado usando las tecnicas de pre procesamiento o transformacion de datos, lo cual\n",
    "incrementa el poder de prediccion respecto a usar los datos crudos."
   ]
  },
  {
   "cell_type": "markdown",
   "metadata": {},
   "source": [
    "## PARTE C - Interpretación de modelos"
   ]
  },
  {
   "cell_type": "markdown",
   "metadata": {},
   "source": [
    "9.\t¿Qué variables fueron relevantes para el modelo para hacer una predicción?\n",
    "¿Cuáles no? Si usaste una regresión lineal con regularización, presta atención a los parámetros (pendientes) obtenidas.\n",
    "Si usaste un modelo de ensamble en árboles, además de ver la importancia de cada atributo, también elige algunos árboles\n",
    "al azar y observa qué atributos considera importantes.\n",
    "\n",
    "¿En qué se diferencian esos árboles? ¿Por qué? Finalmente, responde,\n",
    "¿coincide con lo que esperabas a partir de tu experiencia con este dataset?"
   ]
  },
  {
   "cell_type": "markdown",
   "metadata": {},
   "source": [
    "Respuesta:\n",
    "\n",
    "Luego de contruir las graficas de correlacion (se encuentran en la parte A) conjunto y estimar los coeficientes de correlacion se puede concluir que:\n",
    "\n",
    "* Las variables que fueron relevantes fueron: rooms ,bedrooms,bathrooms\n",
    "\n",
    "* Las variables que tienen poca importancia son: surface_total y surface_covered\n",
    "\n",
    "* Las variables que no tienen importancia son :start_date ,end_date, created_on asi como: currency, title, \tdescription ,\toperation_type, adicionalmente la variable \"l1\" que es el tipo de pais no tiene ningun tipo de influencia en el precio.\n",
    "\n",
    "* Los métodos de selección de variables relevantes, brindan información útil sobre la importancia relativa o la relevancia de las características para un problema determinado. Puede utilizar esta información para crear versiones filtradas de su conjunto de datos y aumentar la precisión de sus modelos.\n",
    " \n",
    "* Utilizamos el modelo de validacion cruzada que es una técnica que se usa a menudo en el aprendizaje automático para evaluar la variabilidad de un conjunto de datos y la confiabilidad de cualquier modelo entrenado con ellos. Uno de los parámetros importantes para la utilización de este modelo son los pliegues o divisiones que utilizaremos, por ejemplo, si crea cinco pliegues como lo hicimos en nuestro caso, el módulo genera cinco modelos durante la validación cruzada. El módulo entrena cada modelo con cuatro quintos de los datos. Prueba cada modelo en el quinto restante.\n",
    "\n",
    "* Una ventaja de utilizar la validación cruzada es que utiliza todo el conjunto de datos de entrenamiento para el entrenamiento y la evaluación, en lugar de una parte, al mismo tiempo esto nos trae una desventaja ya que es mucho más intensivo a nivel computacional y tarda mucho más tiempo que la validación con una división aleatoria.\n",
    "\n",
    "* Una de las principales ventajas del método de árboles de decisión es su interpretabilidad, pues nos da un conjunto de reglas a partir de las cuales se pueden tomar decisiones. Este es un algoritmo que no es demandante en poder de cómputo comparado con procedimientos más sofisticados y, a pesar de ello, que tiende a dar buenos resultados de predicción para muchos tipos de datos.\n",
    "\n"
   ]
  },
  {
   "cell_type": "markdown",
   "metadata": {},
   "source": [
    "10.\t¿Cómo es la distribución de errores (regresión) ?"
   ]
  },
  {
   "cell_type": "markdown",
   "metadata": {},
   "source": [
    "Respuesta:\n",
    "\n",
    "* El menor error se obtuvo cuando se aplicaron las técnicas de transformacion de datos al dataset (para el caso del modelo árbol de decisión), en este caso pudimos observar con las gráficas que con una profundidad entre 10 y 15 es donde podemos obtener los mejores resultados para este modelo. \n",
    "\n",
    "* Los modelos avanzados son mas potentes pero requieren mas tiempo de cálculo sobre el algortimo de random forest, que fue el de mejor desempeño, sin embargo para este modelo no se tomó las técnicas de transformación como se realizó en la parte A del trabajo, es por esto que nuestro modelo de random forest se convierte en un modelo un poco menos confiable que el de árboles de decisión mencionado anteriormente. \n",
    "\n",
    "* A partir de los resultados obtenidos, se puede inferir que los menores errores se pueden obtener si se usa el dataset de datos transformados en la PARTE A, pero aplicando alguno de los modelos avanzados, ya que al incluir un atributo mas se incrementa la cantidad de informacion disponible para que el algoritmo aprenda.\n",
    "\n",
    "* El modelo avanzado Random Forest genero mejores resultados (Accuracy= 0.80 (+/- 0.03) que el modelo de la PARTE 1 (Accuracy: 0.75 (+/- 0.03), sin embargo para el modelo AdaBoost usando los parametros por defecto, la confiablidad del modelo fue inferior , presentando un valor de 0.43 (+/- 0.07).\n",
    "\n",
    "* Según lo investigado con el modelo AdaBoost es fácil producir con este tipo de modelos overfitting, es decir el modelo puede quedar sobreentrenado y esto puede llevarnos a generar un error mayor, como sucedió en nuestro caso. \n"
   ]
  },
  {
   "cell_type": "markdown",
   "metadata": {},
   "source": [
    "## DESAFÍO OPCIONAL"
   ]
  },
  {
   "cell_type": "markdown",
   "metadata": {},
   "source": [
    "Aplica una técnica de Clustering sobre el dataset. Puedes combinar con técnicas de reducción de dimensionalidad para facilitar la visualización. ¿Qué clusters encuentras? ¿A qué pueden corresponder? Te dejamos preguntas que pueden servir como disparadoras: ¿qué barrios se parecen más entre sí?¿qué tipos de propiedades se parecen más entre sí?"
   ]
  },
  {
   "cell_type": "code",
   "execution_count": 22,
   "metadata": {},
   "outputs": [],
   "source": [
    "# importar dependencias\n",
    "import numpy as np\n",
    "import pandas as pd\n",
    "import matplotlib.pylab as plt\n",
    "import seaborn as sns"
   ]
  },
  {
   "cell_type": "code",
   "execution_count": 23,
   "metadata": {},
   "outputs": [],
   "source": [
    "from sklearn.model_selection import train_test_split\n",
    "from sklearn.decomposition import PCA\n",
    "from sklearn.discriminant_analysis import LinearDiscriminantAnalysis\n",
    "from sklearn.neighbors import (KNeighborsClassifier,\n",
    "                               NeighborhoodComponentsAnalysis)\n",
    "from sklearn.pipeline import make_pipeline\n",
    "from sklearn.preprocessing import StandardScaler"
   ]
  },
  {
   "cell_type": "code",
   "execution_count": 24,
   "metadata": {},
   "outputs": [],
   "source": [
    "#Se carga el dataset original\n",
    "df = pd.read_csv(\"DS_Proyecto_01_Datos_Properati.csv\", parse_dates = [\"created_on\"])"
   ]
  },
  {
   "cell_type": "code",
   "execution_count": 25,
   "metadata": {},
   "outputs": [],
   "source": [
    "#DEbido a la gran cantidad de datos se filtra la data considerando solo La ZOna Norte\n",
    "nombre_de_la_zona=\"Bs.As. G.B.A. Zona Norte\""
   ]
  },
  {
   "cell_type": "code",
   "execution_count": 26,
   "metadata": {},
   "outputs": [],
   "source": [
    "df_filtered1= df[(df.property_type.isin([\"Departamento\", \"PH\", \"Casa\"]))& (df.l2.isin([nombre_de_la_zona]))]"
   ]
  },
  {
   "cell_type": "code",
   "execution_count": 27,
   "metadata": {},
   "outputs": [],
   "source": [
    "#Superficie total menor a 1000 m2 y mayor a 15 m2\n",
    "df_filtered2= df_filtered1[df_filtered1[\"surface_total\"] < 1000]\n",
    "df_filtered3= df_filtered2[df_filtered2[\"surface_total\"] > 15]"
   ]
  },
  {
   "cell_type": "code",
   "execution_count": 28,
   "metadata": {},
   "outputs": [],
   "source": [
    "#precio menor a 4000000 dólares\n",
    "df_filtered4= df_filtered3[df_filtered3[\"price\"] < 4000000]"
   ]
  },
  {
   "cell_type": "code",
   "execution_count": 30,
   "metadata": {},
   "outputs": [],
   "source": [
    "#IMPUTACION DE DATOS FALTANTES: Se aplicara un metodo de interpolacion lineal\n",
    "df_interpolado = df_filtered4.interpolate(method='linear', axis=0).bfill()"
   ]
  },
  {
   "cell_type": "markdown",
   "metadata": {},
   "source": [
    "ENCODING: se aplicara un proceso de encoding para la variable l3 (tipo de Barrio) \n",
    "Para codificar valores categóricos es utilizar una técnica llamada codificación de etiquetas.\n",
    "Consiste simplemente  en convertir cada valor de una columna en un número.\n",
    "Si mandamos a imprimir los tipos de datos vemos que el atributo l3 es un objet"
   ]
  },
  {
   "cell_type": "code",
   "execution_count": 31,
   "metadata": {},
   "outputs": [],
   "source": [
    "#Luego convertimos esa columna en una variable categorica\n",
    "df_interpolado[\"l3\"] = df_interpolado[\"l3\"].astype('category')"
   ]
  },
  {
   "cell_type": "code",
   "execution_count": 32,
   "metadata": {},
   "outputs": [],
   "source": [
    "#Luego aplicamos el metodo de encoding label\n",
    "df_interpolado[\"l3\"] = df_interpolado[\"l3\"].cat.codes"
   ]
  },
  {
   "cell_type": "code",
   "execution_count": 33,
   "metadata": {},
   "outputs": [],
   "source": [
    "#seleccionar las columnas l3, rooms, bedrooms, barhrooms, surface_total, surface_covered y price\n",
    "df_datos_final = df_interpolado.drop(columns=['start_date','end_date','created_on','lat','lon','l1','l2','l3',\n",
    "                                    'currency','title','description','property_type','operation_type'\n",
    "                                     ])"
   ]
  },
  {
   "cell_type": "markdown",
   "metadata": {},
   "source": [
    "ESCALADO: Escalado de datos usando la tecnica de NORMALIZACION MEDIA\n",
    "La normalización media es una de las formas más fáciles de normalizar los Dataframes de rangos variados.\n",
    "se hace restando la media y dividiendo por la desviación estándar para todos los elementos del Dataframe.\n",
    "Para eso se crea una pequeña funcion que nos hace esa tarea"
   ]
  },
  {
   "cell_type": "code",
   "execution_count": 34,
   "metadata": {},
   "outputs": [],
   "source": [
    "def mean_norm(df_input):\n",
    "    return df_input.apply(lambda x: (x-x.mean())/ x.std(), axis=0)"
   ]
  },
  {
   "cell_type": "code",
   "execution_count": 35,
   "metadata": {},
   "outputs": [],
   "source": [
    "# Ahora se usa la funcion creada\n",
    "df_norm = mean_norm(df_datos_final)\n",
    "df_final=df_norm"
   ]
  },
  {
   "cell_type": "code",
   "execution_count": 36,
   "metadata": {},
   "outputs": [],
   "source": [
    "#SE importan  las librerias para aplicar analisis de Componentes Principales\n",
    "from sklearn.decomposition import PCA\n",
    "from numpy import unique"
   ]
  },
  {
   "cell_type": "code",
   "execution_count": 37,
   "metadata": {},
   "outputs": [],
   "source": [
    "#Aqui se aplica un algortimo para reducir dimensionalidad a solo 2 dimensiones\n",
    "pca =PCA(n_components=2)\n",
    "reduced=pd.DataFrame(pca.fit_transform(df_final))"
   ]
  },
  {
   "cell_type": "code",
   "execution_count": 38,
   "metadata": {},
   "outputs": [],
   "source": [
    "#Se aplica un algoritmo de Clasificacion No supervisada para hacer el cluster\n",
    "from sklearn.cluster import AgglomerativeClustering\n",
    "# define el model\n",
    "num_cluster=4 # numero de cluster\n",
    "model = AgglomerativeClustering(n_clusters=num_cluster)\n",
    "# ajustar el modelo\n",
    "reduced1=np.asarray(reduced)\n",
    "yhat = model.fit_predict(reduced1)\n",
    "# retrieve unique clusters\n",
    "clusters = unique(yhat)"
   ]
  },
  {
   "cell_type": "code",
   "execution_count": 39,
   "metadata": {},
   "outputs": [
    {
     "data": {
      "image/png": "[encoded data removed]",
      "text/plain": [
       "<Figure size 432x288 with 1 Axes>"
      ]
     },
     "metadata": {
      "needs_background": "light"
     },
     "output_type": "display_data"
    }
   ],
   "source": [
    "#Se importan las librerias para graficar una grafico de dispersion\n",
    "from numpy import where\n",
    "from matplotlib import pyplot\n",
    "\n",
    "# graficar un scatter plot for samples por cada cluster\n",
    "for cluster in clusters:\n",
    "\t# se obtienen el indice para cada cluster\n",
    "\trow_ix = where(yhat == cluster)\n",
    "\t# create scatter\n",
    "\tpyplot.scatter(reduced1[row_ix, 0], reduced1[row_ix, 1])\n",
    "pyplot.title('Cluster')\n",
    "# mostrar la grafica\n",
    "pyplot.show()"
   ]
  },
  {
   "cell_type": "code",
   "execution_count": 40,
   "metadata": {},
   "outputs": [],
   "source": [
    "# para Agregar la columna de cluster como nueva y poder comparar con el cluster\n",
    "df_filtered4['Cluster']=pd.DataFrame(yhat) # se agrega la columna cluster con el numero de cluster"
   ]
  },
  {
   "cell_type": "code",
   "execution_count": 41,
   "metadata": {},
   "outputs": [
    {
     "name": "stdout",
     "output_type": "stream",
     "text": [
      "Los Barrios que mas se parecen entre si son: \n"
     ]
    }
   ],
   "source": [
    "#para saber que BArrios pertencen a que cluster\n",
    "print('Los Barrios que mas se parecen entre si son: ')"
   ]
  },
  {
   "cell_type": "code",
   "execution_count": 42,
   "metadata": {},
   "outputs": [
    {
     "name": "stdout",
     "output_type": "stream",
     "text": [
      "---------------------\n",
      " \n",
      "Barios del cluster #:  0\n",
      "[('Tigre', 30.19), ('Vicente López', 17.21)]\n",
      " \n",
      "Barios del cluster #:  1\n",
      "[('Tigre', 29.07), ('Pilar', 17.81), ('Vicente López', 15.41)]\n",
      " \n",
      "Barios del cluster #:  2\n",
      "[('Tigre', 100.0)]\n",
      " \n",
      "Barios del cluster #:  3\n",
      "[('Tigre', 29.19), ('Vicente López', 15.54)]\n",
      " \n"
     ]
    }
   ],
   "source": [
    "import operator\n",
    "#Para filtrar los barrios del cluster 1\n",
    "print('---------------------')\n",
    "print(' ')\n",
    "for n in range(num_cluster):\n",
    "    df_cluster= df_filtered4[df_filtered4[\"Cluster\"] ==n]\n",
    "    #print(df_cluster.shape)\n",
    "    Barrios=list(df_cluster['l3'])\n",
    "    cluster = []\n",
    "    for i in Barrios:\n",
    "        if i not in cluster:\n",
    "            cluster.append(i)\n",
    "    #Crear un diccionario con los barrios y sus frecuencias\n",
    "    dic_barrios={}\n",
    "    for clase in cluster:\n",
    "        porcentaje_barrio=Barrios.count(clase)/len(Barrios)*100 #calcula la proporcion de cada clase\n",
    "        if porcentaje_barrio>15: #filtrando frecuencias menores al 15%\n",
    "            dic_barrios.setdefault(clase , round(porcentaje_barrio,2))\n",
    "    #ordenar le diccionario por su valor\n",
    "    print('Barios del cluster #: ',str(n))\n",
    "    dic_ordenado = sorted(dic_barrios.items(), key=operator.itemgetter(1), reverse=True)\n",
    "    print(dic_ordenado)\n",
    "    print(' ')"
   ]
  },
  {
   "cell_type": "code",
   "execution_count": 43,
   "metadata": {},
   "outputs": [
    {
     "name": "stdout",
     "output_type": "stream",
     "text": [
      "Las propiedades que mas se parecen entre si son: \n"
     ]
    }
   ],
   "source": [
    "#para saber que PRopiedades se parecen\n",
    "print('Las propiedades que mas se parecen entre si son: ')"
   ]
  },
  {
   "cell_type": "code",
   "execution_count": 44,
   "metadata": {},
   "outputs": [
    {
     "name": "stdout",
     "output_type": "stream",
     "text": [
      "---------------------\n",
      " \n",
      "Propiedades del cluster #:  0\n",
      "[('Departamento', 60.71), ('Casa', 31.66)]\n",
      " \n",
      "Propiedades del cluster #:  1\n",
      "[('Departamento', 61.05), ('Casa', 30.45)]\n",
      " \n",
      "Propiedades del cluster #:  2\n",
      "[('Departamento', 100.0)]\n",
      " \n",
      "Propiedades del cluster #:  3\n",
      "[('Departamento', 59.27), ('Casa', 32.3)]\n",
      " \n"
     ]
    }
   ],
   "source": [
    "#Para filtrar los tipos de propiedad\n",
    "print('---------------------')\n",
    "print(' ')\n",
    "for n in range(num_cluster):\n",
    "    df_cluster= df_filtered4[df_filtered4[\"Cluster\"] ==n]\n",
    "    #print(df_cluster.shape)\n",
    "    propied=list(df_cluster['property_type'])\n",
    "    cluster = []\n",
    "    for i in propied:\n",
    "        if i not in cluster:\n",
    "            cluster.append(i)\n",
    "    #Crear un diccionario con las propiedades y sus frecuencias\n",
    "    dic_prop={}\n",
    "    for clase in cluster:\n",
    "        porcentaje_prop=propied.count(clase)/len(propied)*100\n",
    "        if porcentaje_prop>15: #filtrando frecuencias menores al 15%\n",
    "            dic_prop.setdefault(clase , round(porcentaje_prop,2))\n",
    "    #ordenar le diccionario por su valor\n",
    "    print('Propiedades del cluster #: ',str(n))\n",
    "    dic_ordenado = sorted(dic_prop.items(), key=operator.itemgetter(1), reverse=True)\n",
    "    print(dic_ordenado)\n",
    "    print(' ')"
   ]
  },
  {
   "cell_type": "markdown",
   "metadata": {},
   "source": [
    "### Propuesta de Mejora:\n",
    "1. Realizar la transformación de datos basada en el \"encoding\"  de alguna de las variables en este caso el \"tipo de barrio\"\n",
    "2. Aplicar métodos de imputación de datos faltantes (evaluar varios métodos y quedarse con el de meneo error)\n",
    "3. Aplicar la normalización de los datos y evaluarla contra los resultados sin normalizar . \n",
    "4. Optimizar los parámetros del algortimo de prediccion usando grid search pero ampliando el rango de valores de los parámetros y la cantidad de valores de prueba.\n",
    "5. Para obtener mejores resultados se requiere más tiempo computacional para así dar más profundidad a los modelos y minimizar el error. "
   ]
  }
 ],
 "metadata": {
  "kernelspec": {
   "display_name": "Python 3",
   "language": "python",
   "name": "python3"
  },
  "language_info": {
   "codemirror_mode": {
    "name": "ipython",
    "version": 3
   },
   "file_extension": ".py",
   "mimetype": "text/x-python",
   "name": "python",
   "nbconvert_exporter": "python",
   "pygments_lexer": "ipython3",
   "version": "3.8.3"
  }
 },
 "nbformat": 4,
 "nbformat_minor": 4
}
